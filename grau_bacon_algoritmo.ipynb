{
  "nbformat": 4,
  "nbformat_minor": 0,
  "metadata": {
    "colab": {
      "name": "grau_bacon_algoritmo.ipynb",
      "provenance": [],
      "collapsed_sections": []
    },
    "kernelspec": {
      "name": "python3",
      "display_name": "Python 3"
    },
    "language_info": {
      "name": "python"
    }
  },
  "cells": [
    {
      "cell_type": "markdown",
      "source": [
        "## 1. Imports"
      ],
      "metadata": {
        "id": "6T_e7fSJ1u6d"
      }
    },
    {
      "cell_type": "code",
      "execution_count": null,
      "metadata": {
        "id": "ngSjBWIJ1mW4"
      },
      "outputs": [],
      "source": [
        "import pandas as pd\n",
        "import numpy as np\n",
        "import seaborn as sns\n",
        "import matplotlib.pyplot as plt "
      ]
    },
    {
      "cell_type": "markdown",
      "source": [
        "## 2. Carregando dados"
      ],
      "metadata": {
        "id": "Y09AqN-31yjS"
      }
    },
    {
      "cell_type": "code",
      "source": [
        "actors = pd.read_csv('dados/cast_data.csv')\n",
        "link_data = pd.read_csv('dados/cast_and_movies_data.csv')"
      ],
      "metadata": {
        "id": "jtbdLfb511oU"
      },
      "execution_count": null,
      "outputs": []
    },
    {
      "cell_type": "code",
      "source": [
        "actors.info()"
      ],
      "metadata": {
        "colab": {
          "base_uri": "https://localhost:8080/"
        },
        "id": "3pJHbH_N2J27",
        "outputId": "c14f3e8f-0962-4d4e-da4a-5306f181199f"
      },
      "execution_count": null,
      "outputs": [
        {
          "output_type": "stream",
          "name": "stdout",
          "text": [
            "<class 'pandas.core.frame.DataFrame'>\n",
            "RangeIndex: 1044499 entries, 0 to 1044498\n",
            "Data columns (total 3 columns):\n",
            " #   Column  Non-Null Count    Dtype  \n",
            "---  ------  --------------    -----  \n",
            " 0   id      1044499 non-null  int64  \n",
            " 1   name    1044499 non-null  object \n",
            " 2   birth   168351 non-null   float64\n",
            "dtypes: float64(1), int64(1), object(1)\n",
            "memory usage: 23.9+ MB\n"
          ]
        }
      ]
    },
    {
      "cell_type": "code",
      "source": [
        "link_data.info()"
      ],
      "metadata": {
        "colab": {
          "base_uri": "https://localhost:8080/"
        },
        "id": "8yWRQDeg3mcT",
        "outputId": "fb5bbeeb-3290-4720-9075-6d03dbf8dd53"
      },
      "execution_count": null,
      "outputs": [
        {
          "output_type": "stream",
          "name": "stdout",
          "text": [
            "<class 'pandas.core.frame.DataFrame'>\n",
            "RangeIndex: 1189594 entries, 0 to 1189593\n",
            "Data columns (total 2 columns):\n",
            " #   Column     Non-Null Count    Dtype\n",
            "---  ------     --------------    -----\n",
            " 0   person_id  1189594 non-null  int64\n",
            " 1   movie_id   1189594 non-null  int64\n",
            "dtypes: int64(2)\n",
            "memory usage: 18.2 MB\n"
          ]
        }
      ]
    },
    {
      "cell_type": "markdown",
      "source": [
        "## 3. Algoritmo\n",
        "\n",
        "**Objetivo**: encontrar o grau de Bacon dado um ator/atriz.\n",
        "\n",
        "O problema pode ser descrito como um grafo, onde os nós são os atores e as arestas unem dois atores/atrizes que atuaram juntos em um filme qualquer. Vejamos um exemplo, digamos que $a$, $b$, $c$, $d$, $e$, $f$ e $g$ representam os atores, como no diagrama abaixo:\n",
        "\n",
        "<img width=400 src=\"https://user-images.githubusercontent.com/56659549/159192137-5dbcc9af-126b-4de6-acd1-286631a1d389.jpg\">\n",
        "\n",
        "Podemos perceber que o ator $b$, por exemplo, atuou com os atores $a$, $d$ e $f$ em um filme qualquer. Enquanto os atores $c$ e $d$ nunca atuaram juntos até então.\n",
        "\n",
        "Estamos interessados em medir o Grau de Bacon entre dois atores/atrizes, ou seja, a \"distância\" entre dois nós do grafo. Por exemplo, no grafo acima, o Grau de Bacon $gb(a, b)$ = 0, ou seja, a \"distância\" entre $a$ e $b$ é 0, enquanto $gb(c, f) = 1$. Note que, para quaisquer atores $x$ e $y$, $gb(x, y) = gb(y, x)$. Desenvolveremos a seguir um algoritmo capaz de computar o Grau de Bacon entre quaisquer atores/atrizes $x$ e $y$.\n",
        "\n",
        "Para cada ator/atriz $x$, o conjunto $A_x$ representa todos os artistas que estão ligados diretamente com $x$. No exemplo acima, teríamos\n",
        "\n",
        "$A_a = \\{b, c\\};$ <br>\n",
        "$A_b = \\{a, d, f\\};$<br>\n",
        "$A_c = \\{a, e\\};$<br>\n",
        "$A_d = \\{b\\};$<br>\n",
        "$A_e = \\{c, f\\};$<br>\n",
        "$A_f = \\{b, e, g\\}.$<br>\n",
        "$A_g = \\{f\\}.$<br>\n",
        "\n",
        "Ainda, seja $N_k$ o *network*, ou seja, o conjunto de todos os atores/atrizes cujo Grau de Bacon em relação a $x$ é menor ou igual a $k$. Para o exemplo acima, se tomarmos $x=a$, teremos\n",
        "\n",
        "$N_0 = \\{b, c\\};$ <br>\n",
        "$N_1 = \\{b, c, d, e, f\\};$<br>\n",
        "$N_2 = \\{b, c, d, e, f, g\\};$<br>\n",
        "\n",
        "Observemos que \n",
        "\n",
        "$k = 0 \\rightarrow N_0 = A_a$<br>\n",
        "$k = 1 \\rightarrow N_1 = A_b \\cup A_c$ <br>\n",
        "$k = 2 \\rightarrow N_2 = A_b \\cup A_c \\cup A_d \\cup A_e$\n",
        "\n",
        "De modo geral, para qualquer $x$, $N_k$ pode ser igualmente descrito como a união de todos os $A_i$, $i \\in N_{k-1}$, ou seja,\n",
        "\n",
        "$$N_k=\\bigcup_{i \\in N_{k-1}}A_i$$  \n",
        "\n",
        "A vantagem de definirmos o $N_k$ como união dos $A_i$ é que podemos utilizar um algoritmo iterativo que depende de $N_{k-1}$. Deste modo, o algoritmo repetirá os passos de união dos conjuntos demonstrado acima até tentar encontrar o outro ator\\atriz $y$ no conjunto $N_k$. Em outras palavras,\n",
        "\n",
        "$$y \\in N_k=\\bigcup_{i \\in N_{k-1}}A_i$$ \n",
        "\n",
        "Para elucidar o algoritmo, abaixo faremos um exemplo de seu funcionamento:\n",
        "\n",
        "$x = a$ <br>\n",
        "$y = g$ <br>\n",
        "$N_0 = A_a = \\{b, c\\}$ <br>\n",
        "\n",
        "$\n",
        "k = 0: g \\notin N_0 \\rightarrow N_1 = A_b \\cup A_c = \\{b, c, d, e, f\\}\n",
        "$\n",
        "<br>\n",
        "$\n",
        "k = 1: g \\notin N_1 \\rightarrow N_2 = A_b \\cup A_c \\cup A_d \\cup A_e \\cup A_f = \\{b, c, d, e, f, g\\} \n",
        "$\n",
        "<br>\n",
        "$\n",
        "k = 2: g \\in N_2 \\rightarrow k = 2 \n",
        "$\n",
        "<br>\n",
        "<br>\n",
        "Como vimos acima, $g \\in N$ apenas na 2 iteração, logo $gb(a, g)=2$, ou seja, o Grau de Bacon entre $a$ e $g$ é 2.\n",
        "\n",
        "Abaixo temos o pseudocódigo do algoritmo implementado:\n",
        "\n",
        "```\n",
        "Algoritmo gb(x, y):\n",
        "  Se x = y: \n",
        "    retorna 0\n",
        "\n",
        "  # definindo N-K e N_(k-1)\n",
        "  N0 = A[x]\n",
        "  N1 = A[x]\n",
        "\n",
        "  Para k em 0, 1, 2, ...:\n",
        "    Se y em N1:\n",
        "      retorna k\n",
        "    Para i em N0:\n",
        "      N1 = N1 + A[i]\n",
        "    N0 = N1\n",
        "\n",
        "  retorna 'Não encontrado'\n",
        "```\n"
      ],
      "metadata": {
        "id": "t54d1hsb6qX7"
      }
    },
    {
      "cell_type": "code",
      "source": [
        "# relacionando todos os atores que interpretaram juntos em algum filme\n",
        "merged = pd.merge(link_data, link_data, on = 'movie_id').query('person_id_x != person_id_y')\n",
        "\n",
        "# criando os conjuntos de relações, assim como foi definido no algoritmo acima\n",
        "# este representa os conjuntos A_i\n",
        "A = merged.groupby('person_id_x').person_id_y.apply(set)"
      ],
      "metadata": {
        "id": "ympj6tKQMhsz"
      },
      "execution_count": null,
      "outputs": []
    },
    {
      "cell_type": "code",
      "source": [
        "def get_actor_id(actor_name):\n",
        "\n",
        "    \"\"\"\n",
        "    tomar o id do ator pelo seu nome\n",
        "    \"\"\"\n",
        "\n",
        "    return actors.query(f'name == \"{actor_name}\"').id.iloc[0]\n",
        "\n",
        "def entry_validation(id_name):\n",
        "    '''\n",
        "    verifica se a id_name é um inteiro (representando o id do ator/atriz) ou se\n",
        "    é o nome do ator/atriz, retornando assim seu respectivo id\n",
        "    '''\n",
        "\n",
        "    if not str(id_name).isdigit(): return get_actor_id(id_name)\n",
        "    else: return id_name\n",
        "\n",
        "def search_bacon_degree(x, y = 'Kevin Bacon', max_iter = 15):\n",
        "\n",
        "    '''\n",
        "    função para encontrar o Grau de Bacon entre dois atores. Por padrão, \n",
        "    o parâmetro y será \"Kevin Bacon\", indicando assim o Grau de Bacon do\n",
        "    do ator fornecido em x. Esta função é equivalente ao gb(x, y).\n",
        "\n",
        "    x -> str ou int\n",
        "      id ou nome do primeiro ator/atriz\n",
        "\n",
        "    y -> str ou int, default 'Kevin Bacon'\n",
        "      id ou nome do segundo ator/atriz\n",
        "\n",
        "    max_iter -> int, default 15\n",
        "      número máximo de iterações de busca \n",
        "\n",
        "    A função retornará valores inteiros que vão de 0 a max_iter, onde:\n",
        "      0 -> indica que atuaram juntos em um mesmo filme\n",
        "      1 -> indica que o ator/atriz inicial atuou com alguém que atuou com\n",
        "           o ator/atriz final\n",
        "      2 -> indica que o ator/atriz inicial atuou com alguém que atuou com outro\n",
        "           alguém que atuou com o ator/atriz final\n",
        "      ...\n",
        "\n",
        "    '''\n",
        "\n",
        "    # verifica se x e y são o mesmo artista\n",
        "    if x == y: return 0\n",
        "\n",
        "    # validando entradas x e y, aceitam id's ou nomes\n",
        "    x = entry_validation(x)\n",
        "    y = entry_validation(y)\n",
        "\n",
        "    # assumindo N0 = A_x, onde N0 representa N_(k-1) e N1 representa N_k\n",
        "    # no início, N_k = N_(k-1). Foi necessário separa em dois set pois\n",
        "    # não é possível iterar e incrementar o iterator utilizado no mesmo \n",
        "    # loop for\n",
        "    N0 = A[x]\n",
        "    N1 = N0.copy()\n",
        "\n",
        "    for k in range(max_iter):\n",
        "\n",
        "        # verifica se y está contido em N_k\n",
        "        if y in N1: return k\n",
        "\n",
        "        # caso o ator final não tenha sido encontrado e N_k, então N0 passa a ser \n",
        "        # o N1 e N1 é atualizado para a próxima iteração\n",
        "        for j in N0:\n",
        "            N1.update(A[j])\n",
        "\n",
        "        # atualizando o N0\n",
        "        N0 = N1.copy()\n",
        "    \n",
        "    # caso chegado na iteração máxima, é retornado que não foi encotrado\n",
        "    # o Grau de Bacon\n",
        "    return 'Não encontrado'"
      ],
      "metadata": {
        "id": "fKV1JtE_R62o"
      },
      "execution_count": null,
      "outputs": []
    },
    {
      "cell_type": "code",
      "source": [
        "search_bacon_degree('Ben Affleck', 'Kevin Bacon')"
      ],
      "metadata": {
        "colab": {
          "base_uri": "https://localhost:8080/"
        },
        "id": "RD6Zo9bIVVoW",
        "outputId": "d5828c13-98c0-473a-a8ba-3ccce673c37e"
      },
      "execution_count": null,
      "outputs": [
        {
          "output_type": "execute_result",
          "data": {
            "text/plain": [
              "0"
            ]
          },
          "metadata": {},
          "execution_count": 8
        }
      ]
    },
    {
      "cell_type": "markdown",
      "source": [
        "## 4. Observações\n",
        "*    Não foram todos os atores listados que foram linkados em filmes;\n",
        "*    Há muitos nomes repetidos com id's diferentes, investigar se há algum erro ou se são de fato pessoas diferentes com mesmo nome;\n",
        "*    Há casos vários registros com mesmo nome, id diferente e uma das datas de aniversário preenchidas;\n",
        "*    O site do oracleofbacon.org pode estar desatualizado ou com algum problema. Há casos como de atores que atuaram junto com Kevin Bacon (102) em um filme, mas com Grau de Bacon 2 no site. Isso ocorre com o ator Ben Affleck (255), por exemplo, que tem grau 2 no site mas que atuou junto a Kevin Bacon em Sundance Skippy (1518293).\n"
      ],
      "metadata": {
        "id": "Rb4wN-v2of_O"
      }
    }
  ]
}